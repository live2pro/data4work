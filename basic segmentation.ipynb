{
 "cells": [
  {
   "cell_type": "code",
   "execution_count": 20,
   "metadata": {},
   "outputs": [],
   "source": [
    "# Import the library\n",
    "import pandas as pd\n",
    "import matplotlib.pyplot as plt\n",
    "from matplotlib_venn import venn2, venn2_circles, venn2_unweighted\n",
    "from matplotlib_venn import venn3, venn3_circles\n",
    "from matplotlib import pyplot as plt\n",
    "%matplotlib inline"
   ]
  },
  {
   "cell_type": "code",
   "execution_count": 4,
   "metadata": {},
   "outputs": [],
   "source": [
    "df=pd.read_csv(\"sample-sales.csv\")"
   ]
  },
  {
   "cell_type": "code",
   "execution_count": 5,
   "metadata": {},
   "outputs": [
    {
     "data": {
      "text/html": [
       "<div>\n",
       "<style scoped>\n",
       "    .dataframe tbody tr th:only-of-type {\n",
       "        vertical-align: middle;\n",
       "    }\n",
       "\n",
       "    .dataframe tbody tr th {\n",
       "        vertical-align: top;\n",
       "    }\n",
       "\n",
       "    .dataframe thead th {\n",
       "        text-align: right;\n",
       "    }\n",
       "</style>\n",
       "<table border=\"1\" class=\"dataframe\">\n",
       "  <thead>\n",
       "    <tr style=\"text-align: right;\">\n",
       "      <th></th>\n",
       "      <th>Account Number</th>\n",
       "      <th>Account Name</th>\n",
       "      <th>sku</th>\n",
       "      <th>category</th>\n",
       "      <th>quantity</th>\n",
       "      <th>unit price</th>\n",
       "      <th>ext price</th>\n",
       "      <th>date</th>\n",
       "    </tr>\n",
       "  </thead>\n",
       "  <tbody>\n",
       "    <tr>\n",
       "      <th>0</th>\n",
       "      <td>803666</td>\n",
       "      <td>Fritsch-Glover</td>\n",
       "      <td>HX-24728</td>\n",
       "      <td>Belt</td>\n",
       "      <td>1</td>\n",
       "      <td>98.98</td>\n",
       "      <td>98.98</td>\n",
       "      <td>2014-09-28 11:56:02</td>\n",
       "    </tr>\n",
       "    <tr>\n",
       "      <th>1</th>\n",
       "      <td>64898</td>\n",
       "      <td>O'Conner Inc</td>\n",
       "      <td>LK-02338</td>\n",
       "      <td>Shirt</td>\n",
       "      <td>9</td>\n",
       "      <td>34.80</td>\n",
       "      <td>313.20</td>\n",
       "      <td>2014-04-24 16:51:22</td>\n",
       "    </tr>\n",
       "    <tr>\n",
       "      <th>2</th>\n",
       "      <td>423621</td>\n",
       "      <td>Beatty and Sons</td>\n",
       "      <td>ZC-07383</td>\n",
       "      <td>Shirt</td>\n",
       "      <td>12</td>\n",
       "      <td>60.24</td>\n",
       "      <td>722.88</td>\n",
       "      <td>2014-09-17 17:26:22</td>\n",
       "    </tr>\n",
       "    <tr>\n",
       "      <th>3</th>\n",
       "      <td>137865</td>\n",
       "      <td>Gleason, Bogisich and Franecki</td>\n",
       "      <td>QS-76400</td>\n",
       "      <td>Shirt</td>\n",
       "      <td>5</td>\n",
       "      <td>15.25</td>\n",
       "      <td>76.25</td>\n",
       "      <td>2014-01-30 07:34:02</td>\n",
       "    </tr>\n",
       "    <tr>\n",
       "      <th>4</th>\n",
       "      <td>435433</td>\n",
       "      <td>Morissette-Heathcote</td>\n",
       "      <td>RU-25060</td>\n",
       "      <td>Shirt</td>\n",
       "      <td>19</td>\n",
       "      <td>51.83</td>\n",
       "      <td>984.77</td>\n",
       "      <td>2014-08-24 06:18:12</td>\n",
       "    </tr>\n",
       "  </tbody>\n",
       "</table>\n",
       "</div>"
      ],
      "text/plain": [
       "   Account Number                    Account Name       sku category  \\\n",
       "0          803666                  Fritsch-Glover  HX-24728     Belt   \n",
       "1           64898                    O'Conner Inc  LK-02338    Shirt   \n",
       "2          423621                 Beatty and Sons  ZC-07383    Shirt   \n",
       "3          137865  Gleason, Bogisich and Franecki  QS-76400    Shirt   \n",
       "4          435433            Morissette-Heathcote  RU-25060    Shirt   \n",
       "\n",
       "   quantity  unit price  ext price                 date  \n",
       "0         1       98.98      98.98  2014-09-28 11:56:02  \n",
       "1         9       34.80     313.20  2014-04-24 16:51:22  \n",
       "2        12       60.24     722.88  2014-09-17 17:26:22  \n",
       "3         5       15.25      76.25  2014-01-30 07:34:02  \n",
       "4        19       51.83     984.77  2014-08-24 06:18:12  "
      ]
     },
     "execution_count": 5,
     "metadata": {},
     "output_type": "execute_result"
    }
   ],
   "source": [
    "df.head()"
   ]
  },
  {
   "cell_type": "markdown",
   "metadata": {},
   "source": [
    "### Get items from category features"
   ]
  },
  {
   "cell_type": "code",
   "execution_count": 12,
   "metadata": {},
   "outputs": [
    {
     "data": {
      "text/plain": [
       "array(['Belt', 'Shirt', 'Shoes'], dtype=object)"
      ]
     },
     "execution_count": 12,
     "metadata": {},
     "output_type": "execute_result"
    }
   ],
   "source": [
    "df['category'].unique()"
   ]
  },
  {
   "cell_type": "markdown",
   "metadata": {},
   "source": [
    "### Assign variables as set"
   ]
  },
  {
   "cell_type": "code",
   "execution_count": 10,
   "metadata": {},
   "outputs": [],
   "source": [
    "shoes = set()\n",
    "belts = set()\n",
    "shirts = set()"
   ]
  },
  {
   "cell_type": "markdown",
   "metadata": {},
   "source": [
    "### Put data to variables (shirts,belts,shoes)"
   ]
  },
  {
   "cell_type": "code",
   "execution_count": 11,
   "metadata": {},
   "outputs": [],
   "source": [
    "for index, row in df.iterrows():\n",
    "    customer=row[\"Account Number\"]\n",
    "    if row['category'] == \"Shirt\":\n",
    "        shirts.add(customer)\n",
    "    if row['category'] == \"Belt\":\n",
    "        belts.add(customer)\n",
    "    if row['category'] == \"Shoes\":\n",
    "        shoes.add(customer)            "
   ]
  },
  {
   "cell_type": "code",
   "execution_count": 49,
   "metadata": {},
   "outputs": [
    {
     "data": {
      "text/plain": [
       "set"
      ]
     },
     "execution_count": 49,
     "metadata": {},
     "output_type": "execute_result"
    }
   ],
   "source": [
    "type(shirts)"
   ]
  },
  {
   "cell_type": "markdown",
   "metadata": {},
   "source": [
    "## Set variables for visualization"
   ]
  },
  {
   "cell_type": "code",
   "execution_count": 14,
   "metadata": {},
   "outputs": [],
   "source": [
    "customer_shirts=list(shirts)\n",
    "\n",
    "customer_belts=list(belts)\n",
    "\n",
    "customer_shoes=list(shoes)"
   ]
  },
  {
   "cell_type": "code",
   "execution_count": null,
   "metadata": {},
   "outputs": [],
   "source": [
    "set1 = set(customer_shoes)\n",
    "\n",
    "set2 = set(customer_shirts)\n",
    "\n",
    "set3 = set(customer_belts)"
   ]
  },
  {
   "cell_type": "markdown",
   "metadata": {},
   "source": [
    "## Answer questions with data"
   ]
  },
  {
   "cell_type": "code",
   "execution_count": 215,
   "metadata": {},
   "outputs": [
    {
     "name": "stdout",
     "output_type": "stream",
     "text": [
      "How many purchase of Shirts :  442\n"
     ]
    }
   ],
   "source": [
    "# How many purchase of Shirt\n",
    "print(\"How many purchase of Shirts : \",len(shirts))"
   ]
  },
  {
   "cell_type": "code",
   "execution_count": 217,
   "metadata": {},
   "outputs": [
    {
     "name": "stdout",
     "output_type": "stream",
     "text": [
      "How many purchase of belts :  170\n"
     ]
    }
   ],
   "source": [
    "# How many purchase of belts\n",
    "print(\"How many purchase of belts : \",len(belts))"
   ]
  },
  {
   "cell_type": "code",
   "execution_count": 218,
   "metadata": {},
   "outputs": [
    {
     "name": "stdout",
     "output_type": "stream",
     "text": [
      "How many purchase of shoes :  271\n"
     ]
    }
   ],
   "source": [
    "# How many purchase of shoes\n",
    "print(\"How many purchase of shoes : \",len(shoes))"
   ]
  },
  {
   "cell_type": "code",
   "execution_count": 220,
   "metadata": {},
   "outputs": [
    {
     "name": "stdout",
     "output_type": "stream",
     "text": [
      "How many purchase of shoes but not belts:  240\n"
     ]
    }
   ],
   "source": [
    "# How many purchase of shoes but not belts\n",
    "print(\"How many purchase of shoes but not belts:\",len(shoes - belts))"
   ]
  },
  {
   "cell_type": "code",
   "execution_count": 222,
   "metadata": {},
   "outputs": [
    {
     "name": "stdout",
     "output_type": "stream",
     "text": [
      "How many purchase of shoes but not shirts:  192\n"
     ]
    }
   ],
   "source": [
    "# How many purchase of shoes but not shirts\n",
    "print(\"How many purchase of shoes but not shirts:\",len(shoes - shirts))"
   ]
  },
  {
   "cell_type": "code",
   "execution_count": 223,
   "metadata": {},
   "outputs": [
    {
     "name": "stdout",
     "output_type": "stream",
     "text": [
      "How many purchase of belts but not shirts:  113\n"
     ]
    }
   ],
   "source": [
    "# How many purchase of belts but not shirts\n",
    "print(\"How many purchase of belts but not shirts:\",len(belts - shirts))"
   ]
  },
  {
   "cell_type": "code",
   "execution_count": 226,
   "metadata": {},
   "outputs": [
    {
     "name": "stdout",
     "output_type": "stream",
     "text": [
      "How many purchase of belts and shirts and shoes:  9\n"
     ]
    }
   ],
   "source": [
    "# How many purchase of belts and shirts and shoes\n",
    "print(\"How many purchase of belts and shirts and shoes:\",len(belts & shirts & shoes))"
   ]
  },
  {
   "cell_type": "code",
   "execution_count": 227,
   "metadata": {},
   "outputs": [
    {
     "name": "stdout",
     "output_type": "stream",
     "text": [
      "How many purchase of belts and shirts but not shoes:  48\n"
     ]
    }
   ],
   "source": [
    "# How many purchase of belts and shirts but not shoes\n",
    "print(\"How many purchase of belts and shirts but not shoes: \",len(belts & shirts - shoes))"
   ]
  },
  {
   "cell_type": "code",
   "execution_count": 48,
   "metadata": {},
   "outputs": [
    {
     "data": {
      "text/plain": [
       "<Figure size 720x720 with 0 Axes>"
      ]
     },
     "metadata": {},
     "output_type": "display_data"
    },
    {
     "data": {
      "image/png": "[encoded data removed]",
      "text/plain": [
       "<Figure size 648x648 with 1 Axes>"
      ]
     },
     "metadata": {},
     "output_type": "display_data"
    }
   ],
   "source": [
    "plt.figure(figsize=(10,10))\n",
    "plt.figure(figsize=(9,9))\n",
    "out=venn3([set1, set2, set3], ('Shoes', 'Shirts', 'Belts'), \n",
    "          set_colors=('#84A9FF', '#FFDE66','#A0E45E'),alpha=0.9)\n",
    "\n",
    "for text in out.set_labels:\n",
    "    text.set_fontsize(16)\n",
    "    text.set_color(\"black\")\n",
    "    \n",
    "for text in out.subset_labels:\n",
    "    text.set_fontsize(16)\n",
    "    text.set_color(\"black\")\n",
    "\n",
    "plt.show()"
   ]
  },
  {
   "cell_type": "code",
   "execution_count": null,
   "metadata": {},
   "outputs": [],
   "source": []
  }
 ],
 "metadata": {
  "kernelspec": {
   "display_name": "Python 3",
   "language": "python",
   "name": "python3"
  },
  "language_info": {
   "codemirror_mode": {
    "name": "ipython",
    "version": 3
   },
   "file_extension": ".py",
   "mimetype": "text/x-python",
   "name": "python",
   "nbconvert_exporter": "python",
   "pygments_lexer": "ipython3",
   "version": "3.7.1"
  }
 },
 "nbformat": 4,
 "nbformat_minor": 2
}
